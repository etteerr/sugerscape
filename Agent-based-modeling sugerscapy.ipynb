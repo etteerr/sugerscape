{
 "cells": [
  {
   "cell_type": "code",
   "execution_count": null,
   "metadata": {},
   "outputs": [],
   "source": [
    "%matplotlib notebook\n",
    "from ABME import *\n",
    "from agents import SugerAgent"
   ]
  },
  {
   "cell_type": "code",
   "execution_count": null,
   "metadata": {
    "scrolled": false
   },
   "outputs": [],
   "source": [
    "# creating agents\n",
    "agents = []\n",
    "for i in range(500):\n",
    "    a = SugerAgent();\n",
    "    a.wealth_low = 10;\n",
    "    a.wealth_high = 20;\n",
    "    a.metabolism_low = 1; #make dependend on vision and... other parameters?\n",
    "    a.metabolism_high = 4;\n",
    "    a.vision_low = 1;\n",
    "    a.vision_high = 5;\n",
    "    agents.append(a);\n",
    "\n",
    "cap=lambda x:np.round(4*np.exp(-(x**2)/(2*(0.05)**2))); #  x=distance from center(given in grow)\n",
    "reg=lambda x:0.5; # Uniform growth of 0.5, x is ignore\n",
    "\n",
    "m=simulate(agents, cap, reg);\n",
    "vis = Visualizer(m);\n",
    "\n",
    "\n",
    "\n",
    "#plot performance information\n",
    "pl.figure();\n",
    "pl.plot(times);\n",
    "pl.plot(np.array(times_render)-times);\n",
    "pl.legend(['Update time', 'render time'])\n",
    "\n",
    "#plot population\n",
    "pl.figure();\n",
    "pl.plot(tracker['Population']);\n",
    "print(sum(times),np.mean(times), np.std(times));\n",
    "\n",
    "for agent in m.agents:\n",
    "    print(agent);"
   ]
  },
  {
   "cell_type": "code",
   "execution_count": null,
   "metadata": {
    "collapsed": true
   },
   "outputs": [],
   "source": []
  },
  {
   "cell_type": "code",
   "execution_count": null,
   "metadata": {
    "collapsed": true
   },
   "outputs": [],
   "source": []
  }
 ],
 "metadata": {
  "kernelspec": {
   "display_name": "Python 3",
   "language": "python",
   "name": "python3"
  },
  "language_info": {
   "codemirror_mode": {
    "name": "ipython",
    "version": 3
   },
   "file_extension": ".py",
   "mimetype": "text/x-python",
   "name": "python",
   "nbconvert_exporter": "python",
   "pygments_lexer": "ipython3",
   "version": "3.6.3"
  }
 },
 "nbformat": 4,
 "nbformat_minor": 2
}
